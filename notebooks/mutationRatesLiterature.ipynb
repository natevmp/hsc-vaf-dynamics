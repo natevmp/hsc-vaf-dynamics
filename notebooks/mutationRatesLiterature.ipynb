{
 "cells": [
  {
   "cell_type": "code",
   "execution_count": 11,
   "metadata": {},
   "outputs": [
    {
     "data": {
      "text/plain": [
       "8.064516129032258e-11"
      ]
     },
     "execution_count": 11,
     "metadata": {},
     "output_type": "execute_result"
    }
   ],
   "source": [
    "nGenome = 6.2*10^9\n",
    "\n",
    "lynch2010_bp = 14.81*10^(-9)\n",
    "lynch2010_g = lynch2010_bp * nGenome\n",
    "\n",
    "milholland2017_bp = 1.2*10^(-8)\n",
    "milholland2017_g = milholland2017_bp * nGenome\n",
    "\n",
    "young2017_g = 2.8\n",
    "young2017_bp = young2017_g / nGenome\n",
    "\n",
    "rahbari2015_g = 0.5\n",
    "rahbari2015_bp = rahbari_2015_g / nGenome"
   ]
  },
  {
   "cell_type": "code",
   "execution_count": 12,
   "metadata": {},
   "outputs": [
    {
     "name": "stdout",
     "output_type": "stream",
     "text": [
      "lynch2010: 91.82200000000005\n",
      "rahbari2015: 0.5\n",
      "milholland2017: 74.40000000000003\n",
      "young2017: 2.8\n"
     ]
    }
   ],
   "source": [
    "println(\"lynch2010: \", lynch2010_g)\n",
    "println(\"rahbari2015: \", rahbari_2015_g)\n",
    "println(\"milholland2017: \", milholland2017_g)\n",
    "println(\"young2017: \", young2017_g)"
   ]
  },
  {
   "cell_type": "code",
   "execution_count": null,
   "metadata": {},
   "outputs": [],
   "source": []
  }
 ],
 "metadata": {
  "kernelspec": {
   "display_name": "Julia 1.4.2",
   "language": "julia",
   "name": "julia-1.4"
  },
  "language_info": {
   "file_extension": ".jl",
   "mimetype": "application/julia",
   "name": "julia",
   "version": "1.4.2"
  }
 },
 "nbformat": 4,
 "nbformat_minor": 4
}
