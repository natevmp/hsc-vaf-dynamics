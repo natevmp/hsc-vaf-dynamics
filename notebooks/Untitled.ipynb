{
 "cells": [
  {
   "cell_type": "code",
   "execution_count": 2,
   "metadata": {},
   "outputs": [
    {
     "data": {
      "text/plain": [
       "Plots.GRBackend()"
      ]
     },
     "execution_count": 2,
     "metadata": {},
     "output_type": "execute_result"
    }
   ],
   "source": [
    "include(\"../src/vafdyn.jl\")\n",
    "using DelimitedFiles, JLD2\n",
    "using ApproxBayes\n",
    "using Distributions, Distances\n",
    "using .VAFDyn\n",
    "\n",
    "using Plots\n",
    "gr()"
   ]
  },
  {
   "cell_type": "code",
   "execution_count": 5,
   "metadata": {},
   "outputs": [
    {
     "ename": "LoadError",
     "evalue": "UndefRefError: access to undefined reference",
     "output_type": "error",
     "traceback": [
      "UndefRefError: access to undefined reference",
      "",
      "Stacktrace:",
      " [1] getproperty at ./Base.jl:33 [inlined]",
      " [2] keys(::JLD2.JLDFile{JLD2.MmapIO}) at /Users/nathanielmonpere/.julia/packages/JLD2/4AJn8/src/JLD2.jl:334",
      " [3] @load(::LineNumberNode, ::Module, ::Any, ::Vararg{Any,N} where N) at /Users/nathanielmonpere/.julia/packages/JLD2/4AJn8/src/loadsave.jl:101"
     ]
    }
   ],
   "source": [
    "@load \"../test/ABC_VAF1fit.jld2\""
   ]
  },
  {
   "cell_type": "code",
   "execution_count": 7,
   "metadata": {},
   "outputs": [
    {
     "name": "stderr",
     "output_type": "stream",
     "text": [
      "┌ Info: Precompiling JLD [4138dd39-2aa7-5051-a626-17a0bb65d9c8]\n",
      "└ @ Base loading.jl:1260\n",
      "WARNING: using JLD.@load in module Main conflicts with an existing identifier.\n"
     ]
    }
   ],
   "source": [
    "using JLD"
   ]
  },
  {
   "cell_type": "code",
   "execution_count": 11,
   "metadata": {},
   "outputs": [
    {
     "data": {
      "text/plain": [
       "Dict{String,Any} with 3 entries:\n",
       "  \"param2Accepted_part\" => Any[0.139502, 0.395537, 0.215918, 0.254773, 0.445936…\n",
       "  \"dataParams\"          => Dict{String,Real}(\"sampleSize\"=>73,\"mutMean\"=>1055.2…\n",
       "  \"param1Accepted_part\" => Any[34175.0, 28744.0, 32840.0, 32053.0, 27190.0, 225…"
      ]
     },
     "execution_count": 11,
     "metadata": {},
     "output_type": "execute_result"
    }
   ],
   "source": [
    "d = load(\"../test/ABC_VAF1fit.jld\")"
   ]
  },
  {
   "cell_type": "code",
   "execution_count": null,
   "metadata": {},
   "outputs": [],
   "source": []
  }
 ],
 "metadata": {
  "kernelspec": {
   "display_name": "Julia 1.4.2",
   "language": "julia",
   "name": "julia-1.4"
  },
  "language_info": {
   "file_extension": ".jl",
   "mimetype": "application/julia",
   "name": "julia",
   "version": "1.4.2"
  }
 },
 "nbformat": 4,
 "nbformat_minor": 4
}
